{
 "cells": [
  {
   "cell_type": "markdown",
   "metadata": {},
   "source": [
    "## DAND - Data Wrangling Project - Jupypter Notebook"
   ]
  },
  {
   "cell_type": "markdown",
   "metadata": {},
   "source": [
    "**This document will discuss the Data Wrangling process used to complete the Data Wrangling Project for UDacity's DAND program.**"
   ]
  },
  {
   "cell_type": "markdown",
   "metadata": {},
   "source": [
    "In this project, our goal is to wrangle WeRateDogs Twitter data to create interesting and trustworthy analyses and visualizations."
   ]
  },
  {
   "cell_type": "markdown",
   "metadata": {},
   "source": [
    "### Insights"
   ]
  },
  {
   "cell_type": "markdown",
   "metadata": {},
   "source": [
    "Thanks to our analysis of the collected tweet, we could determined the distribution of dog types in our dataset. For instance, we now know that there are 10 Floofers in our collected Tweets! There also are 234 Puppers in our collected Tweets! There are 10 Puppers in our collected Tweets! There are 10 87 Doggos in our collected Tweets!"
   ]
  },
  {
   "cell_type": "markdown",
   "metadata": {},
   "source": [
    "Also, using the current dataframe, we can see that if we ommit 'None' and 'a', the most popular dog names are: Charlie, Cooper, and Lucy!"
   ]
  },
  {
   "cell_type": "markdown",
   "metadata": {},
   "source": [
    "The most favourited dog tweet was a Puppo! The photo of the dog (shown below) was tweeted on 2017-01-21 at 18:26:02."
   ]
  },
  {
   "cell_type": "markdown",
   "metadata": {},
   "source": [
    "<img src=\"https://pbs.twimg.com/media/C2tugXLXgAArJO4.jpg\",width=400,height=400>"
   ]
  },
  {
   "cell_type": "markdown",
   "metadata": {},
   "source": [
    "### Visualisation"
   ]
  },
  {
   "cell_type": "markdown",
   "metadata": {},
   "source": [
    "Let's plot the frequency of dog ratings in the dataset. Firstly, with the numerator only, and then as a mark (numerator/denominator). The histogrames were generated using the matplotlib library in Python and were generated after datawrangling of the data collected using Twitter API was completed."
   ]
  },
  {
   "cell_type": "markdown",
   "metadata": {},
   "source": [
    "<img src=\"plot1.png\">"
   ]
  },
  {
   "cell_type": "markdown",
   "metadata": {},
   "source": [
    "The second plot below looks at the action fractional mark numerator/denominator."
   ]
  },
  {
   "cell_type": "markdown",
   "metadata": {},
   "source": [
    "<img src=\"plot2.png\">"
   ]
  },
  {
   "cell_type": "markdown",
   "metadata": {},
   "source": [
    "As we can see above in the histograms, a lot of dogs are doing amazingly well! It's pretty hilarious to see how this Twitter account rates their dogs! The bulk of the distribution are of  dogs with marks less than 50."
   ]
  },
  {
   "cell_type": "markdown",
   "metadata": {},
   "source": [
    "Also, there are a few dogs there have a really high ratings! A future exercise would be to check if the algorithm that extracted the mark from the tweet may have been off for the outliers in the distribution shown above."
   ]
  },
  {
   "cell_type": "code",
   "execution_count": null,
   "metadata": {
    "collapsed": true
   },
   "outputs": [],
   "source": []
  }
 ],
 "metadata": {
  "kernelspec": {
   "display_name": "Python 3",
   "language": "python",
   "name": "python3"
  },
  "language_info": {
   "codemirror_mode": {
    "name": "ipython",
    "version": 3
   },
   "file_extension": ".py",
   "mimetype": "text/x-python",
   "name": "python",
   "nbconvert_exporter": "python",
   "pygments_lexer": "ipython3",
   "version": "3.6.3"
  }
 },
 "nbformat": 4,
 "nbformat_minor": 2
}
